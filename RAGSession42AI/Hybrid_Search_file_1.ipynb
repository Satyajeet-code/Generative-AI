{
  "nbformat": 4,
  "nbformat_minor": 0,
  "metadata": {
    "colab": {
      "provenance": []
    },
    "kernelspec": {
      "name": "python3",
      "display_name": "Python 3"
    },
    "language_info": {
      "name": "python"
    }
  },
  "cells": [
    {
      "cell_type": "markdown",
      "source": [
        "### Practical on how does keyword based searches work"
      ],
      "metadata": {
        "id": "SyJZ2B7z_ufU"
      }
    },
    {
      "cell_type": "code",
      "execution_count": 4,
      "metadata": {
        "id": "c6mq1SOO8FCb"
      },
      "outputs": [],
      "source": [
        "from sklearn.feature_extraction.text import TfidfVectorizer\n",
        "from sklearn.metrics.pairwise import cosine_similarity\n",
        "import numpy as np\n",
        "import re"
      ]
    },
    {
      "cell_type": "code",
      "source": [
        "documents = [\n",
        "    \"satyajeet is taking a session\",\n",
        "    \"everybody is attending the session\",\n",
        "    \"this is on rag\",\n",
        "    \"session also covers advanced rag\"\n",
        "]\n",
        "\n",
        "query=\"satyajeet\"\n"
      ],
      "metadata": {
        "id": "5O0KMnCj8SsQ"
      },
      "execution_count": 34,
      "outputs": []
    },
    {
      "cell_type": "code",
      "source": [
        "vector=TfidfVectorizer()\n",
        "X=vector.fit_transform(documents)\n"
      ],
      "metadata": {
        "id": "i7ESJNxP887D"
      },
      "execution_count": 35,
      "outputs": []
    },
    {
      "cell_type": "code",
      "source": [
        "X.toarray()[0]"
      ],
      "metadata": {
        "colab": {
          "base_uri": "https://localhost:8080/"
        },
        "id": "CdcSWqab9ULI",
        "outputId": "2eee870b-e3b3-495c-e7f0-e3727e42f676"
      },
      "execution_count": 36,
      "outputs": [
        {
          "output_type": "execute_result",
          "data": {
            "text/plain": [
              "array([0.        , 0.        , 0.        , 0.        , 0.        ,\n",
              "       0.38044393, 0.        , 0.        , 0.59603894, 0.38044393,\n",
              "       0.59603894, 0.        , 0.        ])"
            ]
          },
          "metadata": {},
          "execution_count": 36
        }
      ]
    },
    {
      "cell_type": "code",
      "source": [
        "y=vector.transform([query])"
      ],
      "metadata": {
        "id": "xrJ-ljWK9XfY"
      },
      "execution_count": 37,
      "outputs": []
    },
    {
      "cell_type": "code",
      "source": [
        "y.toarray()"
      ],
      "metadata": {
        "colab": {
          "base_uri": "https://localhost:8080/"
        },
        "id": "iiklmBJd9elS",
        "outputId": "c5bcef50-b069-42cd-94c9-96ef26af674d"
      },
      "execution_count": 38,
      "outputs": [
        {
          "output_type": "execute_result",
          "data": {
            "text/plain": [
              "array([[0., 0., 0., 0., 0., 0., 0., 0., 1., 0., 0., 0., 0.]])"
            ]
          },
          "metadata": {},
          "execution_count": 38
        }
      ]
    },
    {
      "cell_type": "code",
      "source": [
        "similarities = cosine_similarity(X, y)\n",
        "np.argsort(similarities,axis=0)\n",
        "ranked_indices=np.argsort(similarities,axis=0)[::-1].flatten()"
      ],
      "metadata": {
        "id": "GhDtLHKP9haS"
      },
      "execution_count": 39,
      "outputs": []
    },
    {
      "cell_type": "code",
      "source": [
        "ranked_indices"
      ],
      "metadata": {
        "colab": {
          "base_uri": "https://localhost:8080/"
        },
        "id": "Iidmj1669pfW",
        "outputId": "4aca3acf-4d14-488a-a6b2-12f287135d59"
      },
      "execution_count": 40,
      "outputs": [
        {
          "output_type": "execute_result",
          "data": {
            "text/plain": [
              "array([0, 3, 2, 1])"
            ]
          },
          "metadata": {},
          "execution_count": 40
        }
      ]
    },
    {
      "cell_type": "code",
      "source": [
        "ranked_documents = [documents[i] for i in ranked_indices]\n",
        "for i, doc in enumerate(ranked_documents):\n",
        "    print(f\"Rank {i+1}: {doc}\")"
      ],
      "metadata": {
        "colab": {
          "base_uri": "https://localhost:8080/"
        },
        "id": "PGFBOHGC9srX",
        "outputId": "60c582eb-4993-4c25-ab42-a67ad1d558f8"
      },
      "execution_count": 41,
      "outputs": [
        {
          "output_type": "stream",
          "name": "stdout",
          "text": [
            "Rank 1: satyajeet is taking a session\n",
            "Rank 2: session  also covers advanced rag\n",
            "Rank 3: this is on rag\n",
            "Rank 4: everybody is attending the session\n"
          ]
        }
      ]
    },
    {
      "cell_type": "markdown",
      "source": [
        "#### How is BM25 different from Tf-IDF"
      ],
      "metadata": {
        "id": "YoGc4PNRAYUZ"
      }
    },
    {
      "cell_type": "markdown",
      "source": [
        "### 1) Handling Document Length\n",
        "**TF-IDF:**\n",
        "- Doesn't account for document length.\n",
        "- Long documents with repeated terms can get unfairly high scores, even if they are less relevant.\n",
        "\n",
        "Example:\n",
        "- Consider two documents with the query \"machine learning\":\n",
        "> Doc 1: \"machine learning is important as it is widely used in industries.\"\n",
        "\n",
        "> Doc 2: \"machine learning is important. machine learning is widely used in industries.\"\n",
        "- TF-IDF would assign a much higher score to Doc 2 because of repeated occurrences of \"machine learning,\" even though Doc 1 might be more concise and relevant.\n",
        "\n",
        "**BM25:**\n",
        "- Normalizes term frequency based on document length, ensuring fair treatment of shorter documents.\n",
        "- This avoids over-rewarding long documents with repeated terms.\n",
        "\n",
        "#### 2) TF Saturation\n",
        "**TF-IDF:**\n",
        "- Treats term frequency linearly. A term appearing 10 times is considered 10 times more relevant than a term appearing once.\n",
        "Example:\n",
        "> Query: \"artificial intelligence\"\n",
        "\n",
        "> Doc 1: \"artificial intelligence is a field of study.\"\n",
        "\n",
        "> Doc 2: \"artificial intelligence artificial intelligence artificial intelligence in every line.\"\n",
        "\n",
        "- TF-IDF would unfairly boost Doc 2 due to repeated occurrences of the query terms.\n",
        "\n",
        "**BM25:**\n",
        "- Introduces a saturation mechanism using 𝑘1, ensuring diminishing returns for repeated term occurrences.\n",
        "-In the above case, BM25 recognizes that after a certain frequency, additional occurrences of \"artificial intelligence\" do not significantly increase relevance."
      ],
      "metadata": {
        "id": "QfwW7kfbBydt"
      }
    },
    {
      "cell_type": "code",
      "source": [],
      "metadata": {
        "id": "1avIRjJTBunB"
      },
      "execution_count": null,
      "outputs": []
    }
  ]
}